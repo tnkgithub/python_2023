{
 "cells": [
  {
   "cell_type": "code",
   "execution_count": 11,
   "id": "6acdf26e-2d2c-40eb-bf57-82e45e14b2db",
   "metadata": {},
   "outputs": [],
   "source": [
    "import matplotlib as plt\n",
    "import japanize_matplotlib\n",
    "import pandas as pd\n",
    "import numpy as np\n",
    "import tkinter\n",
    "from scipy.cluster.hierarchy import linkage, dendrogram, fcluster, cut_tree\n",
    "from scipy.spatial.distance import pdist"
   ]
  },
  {
   "cell_type": "code",
   "execution_count": 12,
   "id": "fd50ae35-cb60-40ae-a4a7-ebd7e7ec9a63",
   "metadata": {},
   "outputs": [],
   "source": [
    "df = pd.read_csv('../word2vec/calc_result/jawiki_sum_removed_number_copy.csv', index_col=0)"
   ]
  },
  {
   "cell_type": "code",
   "execution_count": 13,
   "id": "ae1699fd-ec29-45c5-b61f-29f1d70c1c04",
   "metadata": {},
   "outputs": [
    {
     "name": "stdout",
     "output_type": "stream",
     "text": [
      "                                             0         1         2         3  \\\n",
      "丹頂　千歳鶴                               -0.301312  0.018507 -0.363728  0.277369   \n",
      "港まつり                                 -0.231469 -0.229540 -0.231374 -0.337774   \n",
      "函館日日新聞社                               0.426208  0.497015 -1.143066 -0.545873   \n",
      "婦女界                                  -0.776683 -0.074977  0.178892 -0.277016   \n",
      "長編講談                                 -0.197608  0.636499  0.010216  0.545816   \n",
      "...                                        ...       ...       ...       ...   \n",
      "HAKODATE　いつか来た夕暮れの石畳。懐かしさ抱え、歩く・・・函館。  0.896035 -1.156686  0.387564  0.184821   \n",
      "函館　うみのにおい。                            0.228260  0.417402 -0.190425  0.125988   \n",
      "函館　ゆきのにおい。                            0.317575  0.551694 -0.241762 -0.249885   \n",
      "Hakodate                             -0.071866  0.007558  0.035525 -0.089002   \n",
      "Hakodate                             -0.071866  0.007558  0.035525 -0.089002   \n",
      "\n",
      "                                             4         5         6         7  \\\n",
      "丹頂　千歳鶴                                1.409726 -1.005003  0.007243  0.086534   \n",
      "港まつり                                  0.419799 -0.109043 -0.411652 -0.079598   \n",
      "函館日日新聞社                               1.419311 -0.280847 -0.128584 -0.463235   \n",
      "婦女界                                   0.143388 -0.631705 -0.899797 -0.232483   \n",
      "長編講談                                  0.248831  0.286696 -0.498539  0.068796   \n",
      "...                                        ...       ...       ...       ...   \n",
      "HAKODATE　いつか来た夕暮れの石畳。懐かしさ抱え、歩く・・・函館。  1.388228 -1.636703  0.331489 -1.931626   \n",
      "函館　うみのにおい。                            0.882975 -0.059549  0.370008 -0.761210   \n",
      "函館　ゆきのにおい。                            0.721069 -0.165302  0.012863 -1.237291   \n",
      "Hakodate                              0.281688 -0.132040  0.190060 -0.116433   \n",
      "Hakodate                              0.281688 -0.132040  0.190060 -0.116433   \n",
      "\n",
      "                                             8         9  ...       290  \\\n",
      "丹頂　千歳鶴                               -0.182364 -1.551232  ... -0.454928   \n",
      "港まつり                                  0.734112 -0.497604  ... -0.189491   \n",
      "函館日日新聞社                              -0.189788 -1.096535  ... -0.804727   \n",
      "婦女界                                  -0.067683  0.218505  ... -0.376886   \n",
      "長編講談                                 -0.020228  0.317670  ... -0.231783   \n",
      "...                                        ...       ...  ...       ...   \n",
      "HAKODATE　いつか来た夕暮れの石畳。懐かしさ抱え、歩く・・・函館。 -0.178446 -1.442769  ... -0.249922   \n",
      "函館　うみのにおい。                            0.012879 -1.154212  ... -0.494321   \n",
      "函館　ゆきのにおい。                            0.186467 -1.170040  ... -0.190284   \n",
      "Hakodate                             -0.121742 -0.065165  ...  0.086573   \n",
      "Hakodate                             -0.121742 -0.065165  ...  0.086573   \n",
      "\n",
      "                                           291       292       293       294  \\\n",
      "丹頂　千歳鶴                                0.201402  0.575573  0.324449  1.049733   \n",
      "港まつり                                 -0.064352 -0.227229 -0.136922  0.553902   \n",
      "函館日日新聞社                               0.156833 -0.337176 -0.797279  0.802720   \n",
      "婦女界                                  -0.431446 -0.330877 -0.482501  0.166385   \n",
      "長編講談                                 -0.158812 -0.347930 -0.774914  0.311572   \n",
      "...                                        ...       ...       ...       ...   \n",
      "HAKODATE　いつか来た夕暮れの石畳。懐かしさ抱え、歩く・・・函館。 -0.754054 -0.202219  0.308258  0.675155   \n",
      "函館　うみのにおい。                           -0.305699 -0.090958  0.321735  0.496769   \n",
      "函館　ゆきのにおい。                           -0.280672 -0.029025  0.265113  0.465492   \n",
      "Hakodate                             -0.243078 -0.046212 -0.345439  0.207289   \n",
      "Hakodate                             -0.243078 -0.046212 -0.345439  0.207289   \n",
      "\n",
      "                                           295       296       297       298  \\\n",
      "丹頂　千歳鶴                               -0.333222 -0.918901 -0.037348 -0.109704   \n",
      "港まつり                                 -0.868047 -0.286474 -0.356863  0.573657   \n",
      "函館日日新聞社                              -0.723189 -0.202117 -0.574484  0.587225   \n",
      "婦女界                                   0.201724 -0.489953 -0.116229 -0.389373   \n",
      "長編講談                                 -1.078845 -0.723767 -0.392321  0.177116   \n",
      "...                                        ...       ...       ...       ...   \n",
      "HAKODATE　いつか来た夕暮れの石畳。懐かしさ抱え、歩く・・・函館。 -1.687720 -1.002025 -0.941393  1.298826   \n",
      "函館　うみのにおい。                           -1.291226 -0.286709 -1.087978  0.278692   \n",
      "函館　ゆきのにおい。                           -0.812545 -0.469970 -0.649516 -0.178107   \n",
      "Hakodate                             -0.810500 -0.169224 -0.495075  0.151268   \n",
      "Hakodate                             -0.810500 -0.169224 -0.495075  0.151268   \n",
      "\n",
      "                                           299  \n",
      "丹頂　千歳鶴                               -0.345990  \n",
      "港まつり                                 -0.699262  \n",
      "函館日日新聞社                               0.205137  \n",
      "婦女界                                  -0.805410  \n",
      "長編講談                                 -0.417279  \n",
      "...                                        ...  \n",
      "HAKODATE　いつか来た夕暮れの石畳。懐かしさ抱え、歩く・・・函館。 -0.855227  \n",
      "函館　うみのにおい。                           -0.469497  \n",
      "函館　ゆきのにおい。                           -0.463874  \n",
      "Hakodate                             -0.148414  \n",
      "Hakodate                             -0.148414  \n",
      "\n",
      "[1980 rows x 300 columns]\n"
     ]
    }
   ],
   "source": [
    "print(df)"
   ]
  },
  {
   "cell_type": "code",
   "execution_count": 16,
   "id": "50a6a4e3-97e9-4014-87b8-89791f0e44de",
   "metadata": {},
   "outputs": [
    {
     "ename": "AttributeError",
     "evalue": "module 'matplotlib' has no attribute 'show'",
     "output_type": "error",
     "traceback": [
      "\u001b[0;31m---------------------------------------------------------------------------\u001b[0m",
      "\u001b[0;31mAttributeError\u001b[0m                            Traceback (most recent call last)",
      "Cell \u001b[0;32mIn[16], line 10\u001b[0m\n\u001b[1;32m      7\u001b[0m plt\u001b[38;5;241m.\u001b[39mrcParams[\u001b[38;5;124m'\u001b[39m\u001b[38;5;124mfont.size\u001b[39m\u001b[38;5;124m'\u001b[39m] \u001b[38;5;241m=\u001b[39m \u001b[38;5;241m20\u001b[39m\n\u001b[1;32m      9\u001b[0m dendrogram(ward_cos_nons, labels\u001b[38;5;241m=\u001b[39mdf\u001b[38;5;241m.\u001b[39mindex)\n\u001b[0;32m---> 10\u001b[0m \u001b[43mplt\u001b[49m\u001b[38;5;241;43m.\u001b[39;49m\u001b[43mshow\u001b[49m()\n",
      "File \u001b[0;32m~/.cache/pypoetry/virtualenvs/python-2023-TwLwISRn-py3.10/lib/python3.10/site-packages/matplotlib/_api/__init__.py:217\u001b[0m, in \u001b[0;36mcaching_module_getattr.<locals>.__getattr__\u001b[0;34m(name)\u001b[0m\n\u001b[1;32m    215\u001b[0m \u001b[38;5;28;01mif\u001b[39;00m name \u001b[38;5;129;01min\u001b[39;00m props:\n\u001b[1;32m    216\u001b[0m     \u001b[38;5;28;01mreturn\u001b[39;00m props[name]\u001b[38;5;241m.\u001b[39m\u001b[38;5;21m__get__\u001b[39m(instance)\n\u001b[0;32m--> 217\u001b[0m \u001b[38;5;28;01mraise\u001b[39;00m \u001b[38;5;167;01mAttributeError\u001b[39;00m(\n\u001b[1;32m    218\u001b[0m     \u001b[38;5;124mf\u001b[39m\u001b[38;5;124m\"\u001b[39m\u001b[38;5;124mmodule \u001b[39m\u001b[38;5;132;01m{\u001b[39;00m\u001b[38;5;28mcls\u001b[39m\u001b[38;5;241m.\u001b[39m\u001b[38;5;18m__module__\u001b[39m\u001b[38;5;132;01m!r}\u001b[39;00m\u001b[38;5;124m has no attribute \u001b[39m\u001b[38;5;132;01m{\u001b[39;00mname\u001b[38;5;132;01m!r}\u001b[39;00m\u001b[38;5;124m\"\u001b[39m)\n",
      "\u001b[0;31mAttributeError\u001b[0m: module 'matplotlib' has no attribute 'show'"
     ]
    }
   ],
   "source": [
    "## ward法、コサイン距離\n",
    "#pdist_df = pdist(df, metric=\"cosine\")\n",
    "ward_cos_nons = linkage(df, method=\"ward\", metric=\"euclidean\")\n",
    "%matplotlib tk\n",
    "plt.style.use('ggplot')\n",
    "plt.rcParams['figure.figsize'] = [15, 8]\n",
    "plt.rcParams['font.size'] = 20\n",
    "\n",
    "dendrogram(ward_cos_nons, labels=df.index)\n",
    "plt.show()"
   ]
  },
  {
   "cell_type": "code",
   "execution_count": null,
   "id": "a13b43b5-aabd-4702-a4c9-2c1aaf7a9b6e",
   "metadata": {},
   "outputs": [],
   "source": []
  }
 ],
 "metadata": {
  "kernelspec": {
   "display_name": "Python 3 (ipykernel)",
   "language": "python",
   "name": "python3"
  },
  "language_info": {
   "codemirror_mode": {
    "name": "ipython",
    "version": 3
   },
   "file_extension": ".py",
   "mimetype": "text/x-python",
   "name": "python",
   "nbconvert_exporter": "python",
   "pygments_lexer": "ipython3",
   "version": "3.10.12"
  }
 },
 "nbformat": 4,
 "nbformat_minor": 5
}
